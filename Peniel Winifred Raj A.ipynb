{
  "nbformat": 4,
  "nbformat_minor": 0,
  "metadata": {
    "colab": {
      "name": "Project Clustering Blobs.ipynb",
      "provenance": [],
      "collapsed_sections": []
    },
    "kernelspec": {
      "display_name": "Python 3",
      "language": "python",
      "name": "python3"
    },
    "language_info": {
      "codemirror_mode": {
        "name": "ipython",
        "version": 3
      },
      "file_extension": ".py",
      "mimetype": "text/x-python",
      "name": "python",
      "nbconvert_exporter": "python",
      "pygments_lexer": "ipython3",
      "version": "3.8.3"
    }
  },
  "cells": [
    {
      "cell_type": "markdown",
      "metadata": {
        "id": "K6uszEF-tg6Q"
      },
      "source": [
        "# Unsupervised Machine Learning - KMeans\n",
        "\n",
        "Support vector machines (SVMs) are a set of supervised learning methods used for classification, regression and outliers detection. SVMs are one of the most robust prediction methods. \n",
        "\n",
        "Sources: \n",
        "[sklearn](https://scikit-learn.org/stable/modules/generated/sklearn.cluster.KMeans.html?highlight=kmeans#sklearn.cluster.KMeans), [wikipedia](https://en.wikipedia.org/wiki/K-means_clustering)"
      ]
    },
    {
      "cell_type": "markdown",
      "metadata": {
        "id": "fUB89AR6C5Br"
      },
      "source": [
        "![kmeans.png](https://www.mathworks.com/matlabcentral/mlc-downloads/downloads/submissions/52579/versions/9/screenshot.jpg)"
      ]
    },
    {
      "cell_type": "code",
      "metadata": {
        "id": "-Nq3ymfzyJFO"
      },
      "source": [
        ""
      ],
      "execution_count": null,
      "outputs": []
    },
    {
      "cell_type": "code",
      "metadata": {
        "id": "f6dTbJK1yJFO"
      },
      "source": [
        "import pandas as pd\n",
        "import numpy as np\n",
        "import matplotlib.pyplot as plt\n",
        "from sklearn import datasets\n"
      ],
      "execution_count": null,
      "outputs": []
    },
    {
      "cell_type": "code",
      "metadata": {
        "id": "7MTzo9nPyJFP"
      },
      "source": [
        "data_ = datasets.make_circles(100)"
      ],
      "execution_count": null,
      "outputs": []
    },
    {
      "cell_type": "code",
      "metadata": {
        "colab": {
          "base_uri": "https://localhost:8080/"
        },
        "id": "_ukwMyNLyJFP",
        "outputId": "a1662b00-4723-480d-b313-0a3fff094bc4"
      },
      "source": [
        "data_"
      ],
      "execution_count": null,
      "outputs": [
        {
          "output_type": "execute_result",
          "data": {
            "text/plain": [
              "(array([[ 9.68583161e-01, -2.48689887e-01],\n",
              "        [-5.35826795e-01, -8.44327926e-01],\n",
              "        [-5.09939192e-01, -6.16410594e-01],\n",
              "        [-2.47213595e-01, -7.60845213e-01],\n",
              "        [ 4.28661436e-01, -6.75462340e-01],\n",
              "        [ 5.09939192e-01, -6.16410594e-01],\n",
              "        [-9.29776486e-01, -3.68124553e-01],\n",
              "        [ 7.28968627e-01,  6.84547106e-01],\n",
              "        [ 5.83174902e-01, -5.47637685e-01],\n",
              "        [-9.29776486e-01,  3.68124553e-01],\n",
              "        [-7.01045344e-01, -3.85402939e-01],\n",
              "        [ 4.25779292e-01, -9.04827052e-01],\n",
              "        [-5.35826795e-01,  8.44327926e-01],\n",
              "        [ 9.29776486e-01,  3.68124553e-01],\n",
              "        [-8.00000000e-01, -2.57299624e-16],\n",
              "        [-4.28661436e-01,  6.75462340e-01],\n",
              "        [ 9.92114701e-01,  1.25333234e-01],\n",
              "        [ 5.02324156e-02, -7.98421383e-01],\n",
              "        [ 5.83174902e-01,  5.47637685e-01],\n",
              "        [-7.93691761e-01,  1.00266587e-01],\n",
              "        [ 5.35826795e-01, -8.44327926e-01],\n",
              "        [ 8.09016994e-01,  5.87785252e-01],\n",
              "        [-6.37423990e-01, -7.70513243e-01],\n",
              "        [ 3.40623433e-01,  7.23861642e-01],\n",
              "        [-9.68583161e-01, -2.48689887e-01],\n",
              "        [ 9.68583161e-01,  2.48689887e-01],\n",
              "        [-3.09016994e-01,  9.51056516e-01],\n",
              "        [-5.02324156e-02,  7.98421383e-01],\n",
              "        [-7.93691761e-01, -1.00266587e-01],\n",
              "        [-6.37423990e-01,  7.70513243e-01],\n",
              "        [ 3.09016994e-01, -9.51056516e-01],\n",
              "        [-6.27905195e-02,  9.98026728e-01],\n",
              "        [-5.83174902e-01,  5.47637685e-01],\n",
              "        [ 7.01045344e-01,  3.85402939e-01],\n",
              "        [ 1.49905052e-01, -7.85829801e-01],\n",
              "        [-7.43821189e-01,  2.94499642e-01],\n",
              "        [-9.92114701e-01,  1.25333234e-01],\n",
              "        [ 7.43821189e-01,  2.94499642e-01],\n",
              "        [ 3.40623433e-01, -7.23861642e-01],\n",
              "        [ 5.02324156e-02,  7.98421383e-01],\n",
              "        [ 7.43821189e-01, -2.94499642e-01],\n",
              "        [ 7.93691761e-01,  1.00266587e-01],\n",
              "        [-3.40623433e-01, -7.23861642e-01],\n",
              "        [-7.74866529e-01,  1.98951910e-01],\n",
              "        [ 8.09016994e-01, -5.87785252e-01],\n",
              "        [-1.87381315e-01, -9.82287251e-01],\n",
              "        [ 7.01045344e-01, -3.85402939e-01],\n",
              "        [ 5.35826795e-01,  8.44327926e-01],\n",
              "        [ 1.87381315e-01, -9.82287251e-01],\n",
              "        [ 2.47213595e-01,  7.60845213e-01],\n",
              "        [ 8.76306680e-01, -4.81753674e-01],\n",
              "        [ 6.47213595e-01, -4.70228202e-01],\n",
              "        [-4.28661436e-01, -6.75462340e-01],\n",
              "        [ 7.74866529e-01,  1.98951910e-01],\n",
              "        [-5.83174902e-01, -5.47637685e-01],\n",
              "        [-3.40623433e-01,  7.23861642e-01],\n",
              "        [ 8.00000000e-01,  0.00000000e+00],\n",
              "        [ 6.47213595e-01,  4.70228202e-01],\n",
              "        [ 3.09016994e-01,  9.51056516e-01],\n",
              "        [ 1.00000000e+00,  0.00000000e+00],\n",
              "        [-8.76306680e-01,  4.81753674e-01],\n",
              "        [-1.49905052e-01, -7.85829801e-01],\n",
              "        [-1.00000000e+00, -3.21624530e-16],\n",
              "        [-5.02324156e-02, -7.98421383e-01],\n",
              "        [-7.74866529e-01, -1.98951910e-01],\n",
              "        [ 2.47213595e-01, -7.60845213e-01],\n",
              "        [ 9.29776486e-01, -3.68124553e-01],\n",
              "        [-9.92114701e-01, -1.25333234e-01],\n",
              "        [-1.87381315e-01,  9.82287251e-01],\n",
              "        [ 9.92114701e-01, -1.25333234e-01],\n",
              "        [ 4.28661436e-01,  6.75462340e-01],\n",
              "        [ 6.27905195e-02,  9.98026728e-01],\n",
              "        [ 6.27905195e-02, -9.98026728e-01],\n",
              "        [ 7.28968627e-01, -6.84547106e-01],\n",
              "        [-7.28968627e-01,  6.84547106e-01],\n",
              "        [ 1.49905052e-01,  7.85829801e-01],\n",
              "        [-4.25779292e-01,  9.04827052e-01],\n",
              "        [-1.49905052e-01,  7.85829801e-01],\n",
              "        [-2.47213595e-01,  7.60845213e-01],\n",
              "        [-7.28968627e-01, -6.84547106e-01],\n",
              "        [-7.43821189e-01, -2.94499642e-01],\n",
              "        [-6.27905195e-02, -9.98026728e-01],\n",
              "        [ 7.93691761e-01, -1.00266587e-01],\n",
              "        [-9.68583161e-01,  2.48689887e-01],\n",
              "        [-5.09939192e-01,  6.16410594e-01],\n",
              "        [ 1.87381315e-01,  9.82287251e-01],\n",
              "        [ 7.74866529e-01, -1.98951910e-01],\n",
              "        [-8.76306680e-01, -4.81753674e-01],\n",
              "        [ 5.09939192e-01,  6.16410594e-01],\n",
              "        [-6.47213595e-01, -4.70228202e-01],\n",
              "        [-4.25779292e-01, -9.04827052e-01],\n",
              "        [ 8.76306680e-01,  4.81753674e-01],\n",
              "        [-8.09016994e-01,  5.87785252e-01],\n",
              "        [-3.09016994e-01, -9.51056516e-01],\n",
              "        [ 6.37423990e-01,  7.70513243e-01],\n",
              "        [ 4.25779292e-01,  9.04827052e-01],\n",
              "        [-6.47213595e-01,  4.70228202e-01],\n",
              "        [-7.01045344e-01,  3.85402939e-01],\n",
              "        [-8.09016994e-01, -5.87785252e-01],\n",
              "        [ 6.37423990e-01, -7.70513243e-01]]),\n",
              " array([0, 0, 1, 1, 1, 1, 0, 0, 1, 0, 1, 0, 0, 0, 1, 1, 0, 1, 1, 1, 0, 0,\n",
              "        0, 1, 0, 0, 0, 1, 1, 0, 0, 0, 1, 1, 1, 1, 0, 1, 1, 1, 1, 1, 1, 1,\n",
              "        0, 0, 1, 0, 0, 1, 0, 1, 1, 1, 1, 1, 1, 1, 0, 0, 0, 1, 0, 1, 1, 1,\n",
              "        0, 0, 0, 0, 1, 0, 0, 0, 0, 1, 0, 1, 1, 0, 1, 0, 1, 0, 1, 0, 1, 0,\n",
              "        1, 1, 0, 0, 0, 0, 0, 0, 1, 1, 0, 0]))"
            ]
          },
          "metadata": {
            "tags": []
          },
          "execution_count": 5
        }
      ]
    },
    {
      "cell_type": "code",
      "metadata": {
        "id": "e818TRvYyJFQ"
      },
      "source": [
        "inputData = pd.DataFrame(data = data_[0])"
      ],
      "execution_count": null,
      "outputs": []
    },
    {
      "cell_type": "code",
      "metadata": {
        "colab": {
          "base_uri": "https://localhost:8080/",
          "height": 203
        },
        "id": "vWWoO4OpyJFR",
        "outputId": "b1065270-cc74-4139-cf7b-bc6411ed3143"
      },
      "source": [
        "inputData.head()"
      ],
      "execution_count": null,
      "outputs": [
        {
          "output_type": "execute_result",
          "data": {
            "text/html": [
              "<div>\n",
              "<style scoped>\n",
              "    .dataframe tbody tr th:only-of-type {\n",
              "        vertical-align: middle;\n",
              "    }\n",
              "\n",
              "    .dataframe tbody tr th {\n",
              "        vertical-align: top;\n",
              "    }\n",
              "\n",
              "    .dataframe thead th {\n",
              "        text-align: right;\n",
              "    }\n",
              "</style>\n",
              "<table border=\"1\" class=\"dataframe\">\n",
              "  <thead>\n",
              "    <tr style=\"text-align: right;\">\n",
              "      <th></th>\n",
              "      <th>0</th>\n",
              "      <th>1</th>\n",
              "    </tr>\n",
              "  </thead>\n",
              "  <tbody>\n",
              "    <tr>\n",
              "      <th>0</th>\n",
              "      <td>0.968583</td>\n",
              "      <td>-0.248690</td>\n",
              "    </tr>\n",
              "    <tr>\n",
              "      <th>1</th>\n",
              "      <td>-0.535827</td>\n",
              "      <td>-0.844328</td>\n",
              "    </tr>\n",
              "    <tr>\n",
              "      <th>2</th>\n",
              "      <td>-0.509939</td>\n",
              "      <td>-0.616411</td>\n",
              "    </tr>\n",
              "    <tr>\n",
              "      <th>3</th>\n",
              "      <td>-0.247214</td>\n",
              "      <td>-0.760845</td>\n",
              "    </tr>\n",
              "    <tr>\n",
              "      <th>4</th>\n",
              "      <td>0.428661</td>\n",
              "      <td>-0.675462</td>\n",
              "    </tr>\n",
              "  </tbody>\n",
              "</table>\n",
              "</div>"
            ],
            "text/plain": [
              "          0         1\n",
              "0  0.968583 -0.248690\n",
              "1 -0.535827 -0.844328\n",
              "2 -0.509939 -0.616411\n",
              "3 -0.247214 -0.760845\n",
              "4  0.428661 -0.675462"
            ]
          },
          "metadata": {
            "tags": []
          },
          "execution_count": 34
        }
      ]
    },
    {
      "cell_type": "code",
      "metadata": {
        "colab": {
          "base_uri": "https://localhost:8080/",
          "height": 203
        },
        "id": "w_DNm-_gyJFS",
        "outputId": "0270f2e8-e90c-4dee-9aaf-59310e8bdcad"
      },
      "source": [
        "outputData = pd.DataFrame(data = data_[1])\n",
        "outputData.head()"
      ],
      "execution_count": null,
      "outputs": [
        {
          "output_type": "execute_result",
          "data": {
            "text/html": [
              "<div>\n",
              "<style scoped>\n",
              "    .dataframe tbody tr th:only-of-type {\n",
              "        vertical-align: middle;\n",
              "    }\n",
              "\n",
              "    .dataframe tbody tr th {\n",
              "        vertical-align: top;\n",
              "    }\n",
              "\n",
              "    .dataframe thead th {\n",
              "        text-align: right;\n",
              "    }\n",
              "</style>\n",
              "<table border=\"1\" class=\"dataframe\">\n",
              "  <thead>\n",
              "    <tr style=\"text-align: right;\">\n",
              "      <th></th>\n",
              "      <th>0</th>\n",
              "    </tr>\n",
              "  </thead>\n",
              "  <tbody>\n",
              "    <tr>\n",
              "      <th>0</th>\n",
              "      <td>1</td>\n",
              "    </tr>\n",
              "    <tr>\n",
              "      <th>1</th>\n",
              "      <td>0</td>\n",
              "    </tr>\n",
              "    <tr>\n",
              "      <th>2</th>\n",
              "      <td>0</td>\n",
              "    </tr>\n",
              "    <tr>\n",
              "      <th>3</th>\n",
              "      <td>0</td>\n",
              "    </tr>\n",
              "    <tr>\n",
              "      <th>4</th>\n",
              "      <td>0</td>\n",
              "    </tr>\n",
              "  </tbody>\n",
              "</table>\n",
              "</div>"
            ],
            "text/plain": [
              "   0\n",
              "0  1\n",
              "1  0\n",
              "2  0\n",
              "3  0\n",
              "4  0"
            ]
          },
          "metadata": {
            "tags": []
          },
          "execution_count": 35
        }
      ]
    },
    {
      "cell_type": "code",
      "metadata": {
        "colab": {
          "background_save": true,
          "base_uri": "https://localhost:8080/",
          "height": 282
        },
        "id": "3rmF9OVWyJFS",
        "outputId": "abf42a56-6de3-44a5-9450-8358ff462eeb"
      },
      "source": [
        "plt.scatter(inputData[0], inputData[1])"
      ],
      "execution_count": null,
      "outputs": [
        {
          "output_type": "execute_result",
          "data": {
            "text/plain": [
              "<matplotlib.collections.PathCollection at 0x7fe6ff7b6810>"
            ]
          },
          "metadata": {
            "tags": []
          },
          "execution_count": 0
        },
        {
          "output_type": "display_data",
          "data": {
            "image/png": "[encoded data removed]",
            "text/plain": [
              "<Figure size 432x288 with 1 Axes>"
            ]
          },
          "metadata": {
            "tags": []
          }
        }
      ]
    },
    {
      "cell_type": "code",
      "metadata": {
        "colab": {
          "base_uri": "https://localhost:8080/",
          "height": 282
        },
        "id": "uwBDGVhcyJFT",
        "outputId": "ee8b0612-c5b1-4f4e-ab6d-f60aa38b7ae1"
      },
      "source": [
        "plt.scatter(inputData[0], inputData[1], c = outputData)"
      ],
      "execution_count": null,
      "outputs": [
        {
          "output_type": "execute_result",
          "data": {
            "text/plain": [
              "<matplotlib.collections.PathCollection at 0x7fe70c6a34d0>"
            ]
          },
          "metadata": {
            "tags": []
          },
          "execution_count": 11
        },
        {
          "output_type": "display_data",
          "data": {
            "image/png": "[encoded data removed]",
            "text/plain": [
              "<Figure size 432x288 with 1 Axes>"
            ]
          },
          "metadata": {
            "tags": []
          }
        }
      ]
    },
    {
      "cell_type": "code",
      "metadata": {
        "id": "UlnELbhqyJFT"
      },
      "source": [
        ""
      ],
      "execution_count": null,
      "outputs": []
    },
    {
      "cell_type": "code",
      "metadata": {
        "colab": {
          "base_uri": "https://localhost:8080/"
        },
        "id": "HoyanOr-yJFT",
        "outputId": "5fed745f-62e4-4e40-ddee-5029b831cfb2"
      },
      "source": [
        "from sklearn.cluster import KMeans\n",
        "\n",
        "model = KMeans(n_clusters=4)\n",
        "model.fit(inputData)\n",
        "#model_fit\n"
      ],
      "execution_count": null,
      "outputs": [
        {
          "output_type": "execute_result",
          "data": {
            "text/plain": [
              "KMeans(algorithm='auto', copy_x=True, init='k-means++', max_iter=300,\n",
              "       n_clusters=4, n_init=10, n_jobs=None, precompute_distances='auto',\n",
              "       random_state=None, tol=0.0001, verbose=0)"
            ]
          },
          "metadata": {
            "tags": []
          },
          "execution_count": 27
        }
      ]
    },
    {
      "cell_type": "code",
      "metadata": {
        "colab": {
          "base_uri": "https://localhost:8080/"
        },
        "id": "gSwZnAdjyJFU",
        "outputId": "011f34ec-0cfa-4fc5-c36a-3becbae14423"
      },
      "source": [
        "model.labels_\n"
      ],
      "execution_count": null,
      "outputs": [
        {
          "output_type": "execute_result",
          "data": {
            "text/plain": [
              "array([2, 1, 1, 1, 2, 2, 3, 0, 2, 3, 1, 2, 3, 2, 3, 3, 2, 1, 0, 3, 2, 0,\n",
              "       1, 0, 3, 2, 0, 0, 3, 3, 1, 0, 3, 0, 1, 3, 3, 2, 2, 0, 2, 2, 1, 3,\n",
              "       2, 1, 2, 0, 1, 0, 2, 2, 1, 2, 1, 0, 2, 0, 0, 2, 3, 1, 3, 1, 3, 1,\n",
              "       2, 3, 0, 2, 0, 0, 1, 2, 3, 0, 0, 0, 0, 1, 3, 1, 2, 3, 3, 0, 2, 1,\n",
              "       0, 1, 1, 0, 3, 1, 0, 0, 3, 3, 1, 2], dtype=int32)"
            ]
          },
          "metadata": {
            "tags": []
          },
          "execution_count": 28
        }
      ]
    },
    {
      "cell_type": "code",
      "metadata": {
        "id": "jt5p4QJmyJFU"
      },
      "source": [
        "from sklearn import metrics"
      ],
      "execution_count": null,
      "outputs": []
    },
    {
      "cell_type": "code",
      "metadata": {
        "colab": {
          "base_uri": "https://localhost:8080/"
        },
        "id": "Nwoypk62yJFV",
        "outputId": "6e8d1f54-6d40-4d08-9226-b031cdfa2198"
      },
      "source": [
        "\n",
        "metrics.silhouette_score(inputData, model.labels_)\n"
      ],
      "execution_count": null,
      "outputs": [
        {
          "output_type": "execute_result",
          "data": {
            "text/plain": [
              "0.4508845476504772"
            ]
          },
          "metadata": {
            "tags": []
          },
          "execution_count": 30
        }
      ]
    },
    {
      "cell_type": "code",
      "metadata": {
        "colab": {
          "base_uri": "https://localhost:8080/",
          "height": 282
        },
        "id": "vgU-KNx6yJFW",
        "outputId": "e0009838-6b2b-41be-ddbc-ffecf415c8ad"
      },
      "source": [
        "\n",
        "plt.scatter(inputData[0], inputData[1], c = model.labels_)\n"
      ],
      "execution_count": null,
      "outputs": [
        {
          "output_type": "execute_result",
          "data": {
            "text/plain": [
              "<matplotlib.collections.PathCollection at 0x7fe6ff948450>"
            ]
          },
          "metadata": {
            "tags": []
          },
          "execution_count": 31
        },
        {
          "output_type": "display_data",
          "data": {
            "image/png": "[encoded data removed]",
            "text/plain": [
              "<Figure size 432x288 with 1 Axes>"
            ]
          },
          "metadata": {
            "tags": []
          }
        }
      ]
    },
    {
      "cell_type": "markdown",
      "metadata": {
        "id": "a6VCmrCAyJFX"
      },
      "source": [
        "#### finding right number of cluster"
      ]
    },
    {
      "cell_type": "code",
      "metadata": {
        "id": "kBM_Jg0vyJFX"
      },
      "source": [
        "cluster_range = range(1, 20)\n",
        "error_list = []\n",
        "\n",
        "for i in cluster_range:\n",
        "    model = KMeans(n_clusters=i)\n",
        "    model.fit(inputData)\n",
        "    res = model.inertia_\n",
        "    error_list.append(res)"
      ],
      "execution_count": null,
      "outputs": []
    },
    {
      "cell_type": "code",
      "metadata": {
        "colab": {
          "base_uri": "https://localhost:8080/",
          "height": 295
        },
        "id": "aIXSVYdFyJFY",
        "outputId": "304d3a76-317a-4277-fadd-846dacf79dca"
      },
      "source": [
        "import matplotlib.pyplot as plt\n",
        "\n",
        "plt.plot(cluster_range, error_list, marker = \"o\", color = \"g\", markersize = 10)\n",
        "plt.xlabel(\"Cluster Range\")\n",
        "plt.ylabel(\"IntraCluster Sum\")\n",
        "plt.title(\"KMeans\")\n",
        "plt.show()"
      ],
      "execution_count": null,
      "outputs": [
        {
          "output_type": "display_data",
          "data": {
            "image/png": "[encoded data removed]",
            "text/plain": [
              "<Figure size 432x288 with 1 Axes>"
            ]
          },
          "metadata": {
            "tags": []
          }
        }
      ]
    },
    {
      "cell_type": "code",
      "metadata": {
        "id": "N3P_cT_2yJFY"
      },
      "source": [
        ""
      ],
      "execution_count": null,
      "outputs": []
    },
    {
      "cell_type": "code",
      "metadata": {
        "id": "lbv8JMx6yJFY"
      },
      "source": [
        ""
      ],
      "execution_count": null,
      "outputs": []
    }
  ]
}