{
  "nbformat": 4,
  "nbformat_minor": 0,
  "metadata": {
    "colab": {
      "provenance": [],
      "include_colab_link": true
    },
    "kernelspec": {
      "name": "python3",
      "display_name": "Python 3"
    },
    "language_info": {
      "name": "python"
    },
    "accelerator": "GPU"
  },
  "cells": [
    {
      "cell_type": "markdown",
      "metadata": {
        "id": "view-in-github",
        "colab_type": "text"
      },
      "source": [
        "<a href=\"https://colab.research.google.com/github/peniel7/Peniel-Winifred-Raj-A/blob/main/ResNet_50_Stomach.ipynb\" target=\"_parent\"><img src=\"https://colab.research.google.com/assets/colab-badge.svg\" alt=\"Open In Colab\"/></a>"
      ]
    },
    {
      "cell_type": "code",
      "source": [
        "import os \n",
        "import zipfile \n",
        "import tensorflow as tf \n",
        "from tensorflow.keras.preprocessing.image import ImageDataGenerator \n",
        "from tensorflow.keras import layers \n",
        "from tensorflow.keras import Model \n",
        "import matplotlib.pyplot as plt\n",
        "from tensorflow.keras.optimizers import SGD, Adam\n",
        "from keras.callbacks import EarlyStopping,ModelCheckpoint"
      ],
      "metadata": {
        "id": "qzSPB-e4WYFs"
      },
      "execution_count": null,
      "outputs": []
    },
    {
      "cell_type": "code",
      "source": [
        "train_datagen = ImageDataGenerator(rescale=1./255,zoom_range=0.15,width_shift_range=0.2,height_shift_range=0.2,shear_range=0.15)\n",
        "test_datagen = ImageDataGenerator(rescale=1./255)\n",
        "train_generator = train_datagen.flow_from_directory(\"/content/drive/MyDrive/kvasir-dataset/Train\",target_size=(224, 224),batch_size=32,shuffle=True,class_mode=\"categorical\")\n",
        "test_generator = test_datagen.flow_from_directory(\"/content/drive/MyDrive/kvasir-dataset/Test\",target_size=(224,224),batch_size=32,shuffle=False,class_mode=\"categorical\")"
      ],
      "metadata": {
        "id": "2JpbKFruWYvh",
        "colab": {
          "base_uri": "https://localhost:8080/"
        },
        "outputId": "6b68f0ca-b0f9-4960-85c9-a054eb1dab6b"
      },
      "execution_count": null,
      "outputs": [
        {
          "output_type": "stream",
          "name": "stdout",
          "text": [
            "Found 2704 images belonging to 7 classes.\n",
            "Found 700 images belonging to 7 classes.\n"
          ]
        }
      ]
    },
    {
      "cell_type": "code",
      "execution_count": null,
      "metadata": {
        "id": "vIxdU3YQU-T9"
      },
      "outputs": [],
      "source": [
        "from tensorflow.keras.applications import ResNet50\n",
        "from tensorflow.keras.models import Sequential\n",
        "from tensorflow.keras.layers import Dense, Flatten, GlobalAveragePooling2D\n",
        "\n",
        "resnet_weights_path = '/content/drive/MyDrive/Models/resnet50_weights_tf_dim_ordering_tf_kernels_notop.h5'\n",
        "\n",
        "my_new_model = Sequential()\n",
        "my_new_model.add(ResNet50(input_shape=(224,224,3),include_top=False, pooling='avg', weights=resnet_weights_path))\n",
        "my_new_model.add(Dense(7, activation='softmax'))"
      ]
    },
    {
      "cell_type": "code",
      "source": [
        "my_new_model.compile(loss=tf.keras.losses.CategoricalCrossentropy(),optimizer=SGD(lr=1e-5,momentum=0.9),metrics=['acc'])\n",
        "\n",
        "es=EarlyStopping(monitor='val_acc', mode='max', verbose=1, patience=10)\n",
        "\n",
        "mc = ModelCheckpoint(\"Resnet50_best_model_1.h5\", monitor=\"val_acc\", mode=\"max\", save_best_only=True)\n",
        "\n",
        "resnet_history = my_new_model.fit(train_generator, validation_data = test_generator, steps_per_epoch = 85, epochs = 100, callbacks=[mc,es])"
      ],
      "metadata": {
        "colab": {
          "base_uri": "https://localhost:8080/"
        },
        "id": "8zPjYwf7Wq28",
        "outputId": "594d482a-cc1f-45df-9468-205d9e5a65cf"
      },
      "execution_count": null,
      "outputs": [
        {
          "metadata": {
            "tags": null
          },
          "name": "stderr",
          "output_type": "stream",
          "text": [
            "/usr/local/lib/python3.7/dist-packages/keras/optimizer_v2/gradient_descent.py:102: UserWarning: The `lr` argument is deprecated, use `learning_rate` instead.\n",
            "  super(SGD, self).__init__(name, **kwargs)\n"
          ]
        },
        {
          "output_type": "stream",
          "name": "stdout",
          "text": [
            "Epoch 1/100\n",
            "85/85 [==============================] - 1415s 17s/step - loss: 2.1689 - acc: 0.1313 - val_loss: 2.1259 - val_acc: 0.0914\n",
            "Epoch 2/100\n",
            "85/85 [==============================] - 40s 472ms/step - loss: 1.9275 - acc: 0.2167 - val_loss: 2.2261 - val_acc: 0.1314\n",
            "Epoch 3/100\n",
            "85/85 [==============================] - 40s 472ms/step - loss: 1.7550 - acc: 0.2977 - val_loss: 2.3219 - val_acc: 0.1586\n",
            "Epoch 4/100\n",
            "85/85 [==============================] - 40s 469ms/step - loss: 1.5889 - acc: 0.4009 - val_loss: 2.4682 - val_acc: 0.2043\n",
            "Epoch 5/100\n",
            "85/85 [==============================] - 40s 463ms/step - loss: 1.4790 - acc: 0.4708 - val_loss: 2.5824 - val_acc: 0.1986\n",
            "Epoch 6/100\n",
            "85/85 [==============================] - 39s 463ms/step - loss: 1.3775 - acc: 0.5207 - val_loss: 2.6765 - val_acc: 0.1800\n",
            "Epoch 7/100\n",
            "85/85 [==============================] - 40s 472ms/step - loss: 1.2734 - acc: 0.5880 - val_loss: 2.6903 - val_acc: 0.1514\n",
            "Epoch 8/100\n",
            "85/85 [==============================] - 39s 462ms/step - loss: 1.1904 - acc: 0.6180 - val_loss: 2.5205 - val_acc: 0.1557\n",
            "Epoch 9/100\n",
            "85/85 [==============================] - 39s 464ms/step - loss: 1.1253 - acc: 0.6594 - val_loss: 2.1974 - val_acc: 0.1814\n",
            "Epoch 10/100\n",
            "85/85 [==============================] - 40s 469ms/step - loss: 1.0486 - acc: 0.6897 - val_loss: 1.8222 - val_acc: 0.2486\n",
            "Epoch 11/100\n",
            "85/85 [==============================] - 40s 469ms/step - loss: 0.9867 - acc: 0.7237 - val_loss: 1.4693 - val_acc: 0.3857\n",
            "Epoch 12/100\n",
            "85/85 [==============================] - 40s 470ms/step - loss: 0.9508 - acc: 0.7371 - val_loss: 1.1970 - val_acc: 0.5743\n",
            "Epoch 13/100\n",
            "85/85 [==============================] - 40s 470ms/step - loss: 0.8883 - acc: 0.7507 - val_loss: 1.0061 - val_acc: 0.6700\n",
            "Epoch 14/100\n",
            "85/85 [==============================] - 40s 470ms/step - loss: 0.8674 - acc: 0.7607 - val_loss: 0.8955 - val_acc: 0.7357\n",
            "Epoch 15/100\n",
            "85/85 [==============================] - 41s 476ms/step - loss: 0.8132 - acc: 0.7892 - val_loss: 0.8251 - val_acc: 0.7543\n",
            "Epoch 16/100\n",
            "85/85 [==============================] - 40s 470ms/step - loss: 0.7755 - acc: 0.7936 - val_loss: 0.7740 - val_acc: 0.7814\n",
            "Epoch 17/100\n",
            "85/85 [==============================] - 40s 470ms/step - loss: 0.7410 - acc: 0.7996 - val_loss: 0.7355 - val_acc: 0.7900\n",
            "Epoch 18/100\n",
            "85/85 [==============================] - 40s 470ms/step - loss: 0.7142 - acc: 0.8070 - val_loss: 0.7035 - val_acc: 0.7957\n",
            "Epoch 19/100\n",
            "85/85 [==============================] - 40s 470ms/step - loss: 0.6872 - acc: 0.8229 - val_loss: 0.6769 - val_acc: 0.8029\n",
            "Epoch 20/100\n",
            "85/85 [==============================] - 40s 471ms/step - loss: 0.6618 - acc: 0.8203 - val_loss: 0.6550 - val_acc: 0.8157\n",
            "Epoch 21/100\n",
            "85/85 [==============================] - 40s 470ms/step - loss: 0.6344 - acc: 0.8384 - val_loss: 0.6361 - val_acc: 0.8171\n",
            "Epoch 22/100\n",
            "85/85 [==============================] - 41s 480ms/step - loss: 0.6171 - acc: 0.8388 - val_loss: 0.6160 - val_acc: 0.8214\n",
            "Epoch 23/100\n",
            "85/85 [==============================] - 40s 469ms/step - loss: 0.5913 - acc: 0.8469 - val_loss: 0.5969 - val_acc: 0.8243\n",
            "Epoch 24/100\n",
            "85/85 [==============================] - 40s 469ms/step - loss: 0.5745 - acc: 0.8454 - val_loss: 0.5799 - val_acc: 0.8300\n",
            "Epoch 25/100\n",
            "85/85 [==============================] - 39s 463ms/step - loss: 0.5576 - acc: 0.8524 - val_loss: 0.5622 - val_acc: 0.8300\n",
            "Epoch 26/100\n",
            "85/85 [==============================] - 40s 470ms/step - loss: 0.5545 - acc: 0.8491 - val_loss: 0.5484 - val_acc: 0.8357\n",
            "Epoch 27/100\n",
            "85/85 [==============================] - 39s 462ms/step - loss: 0.5317 - acc: 0.8554 - val_loss: 0.5349 - val_acc: 0.8357\n",
            "Epoch 28/100\n",
            "85/85 [==============================] - 40s 470ms/step - loss: 0.5102 - acc: 0.8621 - val_loss: 0.5230 - val_acc: 0.8386\n",
            "Epoch 29/100\n",
            "85/85 [==============================] - 40s 470ms/step - loss: 0.5016 - acc: 0.8584 - val_loss: 0.5099 - val_acc: 0.8414\n",
            "Epoch 30/100\n",
            "85/85 [==============================] - 40s 469ms/step - loss: 0.4890 - acc: 0.8743 - val_loss: 0.4990 - val_acc: 0.8400\n",
            "Epoch 31/100\n",
            "85/85 [==============================] - 40s 470ms/step - loss: 0.4781 - acc: 0.8750 - val_loss: 0.4885 - val_acc: 0.8443\n",
            "Epoch 32/100\n",
            "85/85 [==============================] - 40s 470ms/step - loss: 0.4624 - acc: 0.8746 - val_loss: 0.4786 - val_acc: 0.8457\n",
            "Epoch 33/100\n",
            "85/85 [==============================] - 40s 471ms/step - loss: 0.4658 - acc: 0.8672 - val_loss: 0.4711 - val_acc: 0.8471\n",
            "Epoch 34/100\n",
            "85/85 [==============================] - 40s 469ms/step - loss: 0.4503 - acc: 0.8746 - val_loss: 0.4624 - val_acc: 0.8514\n",
            "Epoch 35/100\n",
            "85/85 [==============================] - 40s 470ms/step - loss: 0.4449 - acc: 0.8746 - val_loss: 0.4523 - val_acc: 0.8557\n",
            "Epoch 36/100\n",
            "85/85 [==============================] - 40s 470ms/step - loss: 0.4313 - acc: 0.8791 - val_loss: 0.4435 - val_acc: 0.8571\n",
            "Epoch 37/100\n",
            "85/85 [==============================] - 39s 460ms/step - loss: 0.4116 - acc: 0.8898 - val_loss: 0.4369 - val_acc: 0.8557\n",
            "Epoch 38/100\n",
            "85/85 [==============================] - 40s 475ms/step - loss: 0.4140 - acc: 0.8794 - val_loss: 0.4287 - val_acc: 0.8614\n",
            "Epoch 39/100\n",
            "85/85 [==============================] - 40s 470ms/step - loss: 0.4047 - acc: 0.8839 - val_loss: 0.4216 - val_acc: 0.8629\n",
            "Epoch 40/100\n",
            "85/85 [==============================] - 39s 460ms/step - loss: 0.3968 - acc: 0.8905 - val_loss: 0.4167 - val_acc: 0.8571\n",
            "Epoch 41/100\n",
            "85/85 [==============================] - 39s 459ms/step - loss: 0.3987 - acc: 0.8824 - val_loss: 0.4109 - val_acc: 0.8614\n",
            "Epoch 42/100\n",
            "85/85 [==============================] - 40s 471ms/step - loss: 0.3842 - acc: 0.8913 - val_loss: 0.4043 - val_acc: 0.8643\n",
            "Epoch 43/100\n",
            "85/85 [==============================] - 40s 470ms/step - loss: 0.3778 - acc: 0.8939 - val_loss: 0.3983 - val_acc: 0.8671\n",
            "Epoch 44/100\n",
            "85/85 [==============================] - 39s 462ms/step - loss: 0.3811 - acc: 0.8916 - val_loss: 0.3921 - val_acc: 0.8643\n",
            "Epoch 45/100\n",
            "85/85 [==============================] - 40s 469ms/step - loss: 0.3661 - acc: 0.8916 - val_loss: 0.3899 - val_acc: 0.8714\n",
            "Epoch 46/100\n",
            "85/85 [==============================] - 40s 467ms/step - loss: 0.3584 - acc: 0.8990 - val_loss: 0.3854 - val_acc: 0.8714\n",
            "Epoch 47/100\n",
            "85/85 [==============================] - 40s 471ms/step - loss: 0.3495 - acc: 0.9016 - val_loss: 0.3797 - val_acc: 0.8729\n",
            "Epoch 48/100\n",
            "85/85 [==============================] - 40s 472ms/step - loss: 0.3532 - acc: 0.9001 - val_loss: 0.3741 - val_acc: 0.8743\n",
            "Epoch 49/100\n",
            "85/85 [==============================] - 40s 470ms/step - loss: 0.3329 - acc: 0.9061 - val_loss: 0.3699 - val_acc: 0.8786\n",
            "Epoch 50/100\n",
            "85/85 [==============================] - 39s 462ms/step - loss: 0.3395 - acc: 0.9027 - val_loss: 0.3664 - val_acc: 0.8786\n",
            "Epoch 51/100\n",
            "85/85 [==============================] - 39s 461ms/step - loss: 0.3262 - acc: 0.9035 - val_loss: 0.3615 - val_acc: 0.8786\n",
            "Epoch 52/100\n",
            "85/85 [==============================] - 39s 460ms/step - loss: 0.3291 - acc: 0.9016 - val_loss: 0.3581 - val_acc: 0.8786\n",
            "Epoch 53/100\n",
            "85/85 [==============================] - 40s 464ms/step - loss: 0.3205 - acc: 0.9112 - val_loss: 0.3553 - val_acc: 0.8786\n",
            "Epoch 54/100\n",
            "85/85 [==============================] - 40s 471ms/step - loss: 0.3135 - acc: 0.9105 - val_loss: 0.3511 - val_acc: 0.8814\n",
            "Epoch 55/100\n",
            "85/85 [==============================] - 39s 459ms/step - loss: 0.3137 - acc: 0.9064 - val_loss: 0.3467 - val_acc: 0.8800\n",
            "Epoch 56/100\n",
            "85/85 [==============================] - 39s 461ms/step - loss: 0.3148 - acc: 0.9038 - val_loss: 0.3431 - val_acc: 0.8814\n",
            "Epoch 57/100\n",
            "85/85 [==============================] - 40s 469ms/step - loss: 0.3083 - acc: 0.9072 - val_loss: 0.3394 - val_acc: 0.8843\n",
            "Epoch 58/100\n",
            "85/85 [==============================] - 39s 460ms/step - loss: 0.3002 - acc: 0.9197 - val_loss: 0.3372 - val_acc: 0.8843\n",
            "Epoch 59/100\n",
            "85/85 [==============================] - 40s 469ms/step - loss: 0.2987 - acc: 0.9127 - val_loss: 0.3337 - val_acc: 0.8857\n",
            "Epoch 60/100\n",
            "85/85 [==============================] - 39s 461ms/step - loss: 0.2978 - acc: 0.9135 - val_loss: 0.3309 - val_acc: 0.8857\n",
            "Epoch 61/100\n",
            "85/85 [==============================] - 40s 473ms/step - loss: 0.2985 - acc: 0.9090 - val_loss: 0.3266 - val_acc: 0.8886\n",
            "Epoch 62/100\n",
            "85/85 [==============================] - 39s 460ms/step - loss: 0.2859 - acc: 0.9161 - val_loss: 0.3235 - val_acc: 0.8886\n",
            "Epoch 63/100\n",
            "85/85 [==============================] - 40s 468ms/step - loss: 0.2871 - acc: 0.9101 - val_loss: 0.3211 - val_acc: 0.8900\n",
            "Epoch 64/100\n",
            "85/85 [==============================] - 39s 460ms/step - loss: 0.2778 - acc: 0.9175 - val_loss: 0.3200 - val_acc: 0.8871\n",
            "Epoch 65/100\n",
            "85/85 [==============================] - 40s 469ms/step - loss: 0.2727 - acc: 0.9197 - val_loss: 0.3156 - val_acc: 0.8914\n",
            "Epoch 66/100\n",
            "85/85 [==============================] - 39s 461ms/step - loss: 0.2745 - acc: 0.9190 - val_loss: 0.3136 - val_acc: 0.8914\n",
            "Epoch 67/100\n",
            "85/85 [==============================] - 40s 470ms/step - loss: 0.2724 - acc: 0.9172 - val_loss: 0.3103 - val_acc: 0.8943\n",
            "Epoch 68/100\n",
            "85/85 [==============================] - 39s 461ms/step - loss: 0.2758 - acc: 0.9164 - val_loss: 0.3102 - val_acc: 0.8943\n",
            "Epoch 69/100\n",
            "85/85 [==============================] - 41s 479ms/step - loss: 0.2644 - acc: 0.9286 - val_loss: 0.3055 - val_acc: 0.9000\n",
            "Epoch 70/100\n",
            "85/85 [==============================] - 40s 471ms/step - loss: 0.2603 - acc: 0.9212 - val_loss: 0.3034 - val_acc: 0.9014\n",
            "Epoch 71/100\n",
            "85/85 [==============================] - 40s 471ms/step - loss: 0.2627 - acc: 0.9175 - val_loss: 0.3009 - val_acc: 0.9043\n",
            "Epoch 72/100\n",
            "85/85 [==============================] - 39s 463ms/step - loss: 0.2711 - acc: 0.9153 - val_loss: 0.3002 - val_acc: 0.9043\n",
            "Epoch 73/100\n",
            "85/85 [==============================] - 40s 468ms/step - loss: 0.2608 - acc: 0.9231 - val_loss: 0.2982 - val_acc: 0.9071\n",
            "Epoch 74/100\n",
            "85/85 [==============================] - 39s 463ms/step - loss: 0.2554 - acc: 0.9220 - val_loss: 0.2968 - val_acc: 0.9071\n",
            "Epoch 75/100\n",
            "85/85 [==============================] - 39s 462ms/step - loss: 0.2453 - acc: 0.9220 - val_loss: 0.2951 - val_acc: 0.9057\n",
            "Epoch 76/100\n",
            "85/85 [==============================] - 39s 461ms/step - loss: 0.2403 - acc: 0.9279 - val_loss: 0.2946 - val_acc: 0.9057\n",
            "Epoch 77/100\n",
            "85/85 [==============================] - 40s 468ms/step - loss: 0.2392 - acc: 0.9297 - val_loss: 0.2905 - val_acc: 0.9071\n",
            "Epoch 78/100\n",
            "85/85 [==============================] - 40s 471ms/step - loss: 0.2397 - acc: 0.9271 - val_loss: 0.2884 - val_acc: 0.9100\n",
            "Epoch 79/100\n",
            "85/85 [==============================] - 39s 461ms/step - loss: 0.2366 - acc: 0.9294 - val_loss: 0.2867 - val_acc: 0.9086\n",
            "Epoch 80/100\n",
            "85/85 [==============================] - 39s 463ms/step - loss: 0.2331 - acc: 0.9301 - val_loss: 0.2851 - val_acc: 0.9100\n",
            "Epoch 81/100\n",
            "85/85 [==============================] - 40s 464ms/step - loss: 0.2362 - acc: 0.9283 - val_loss: 0.2831 - val_acc: 0.9086\n",
            "Epoch 82/100\n",
            "85/85 [==============================] - 39s 462ms/step - loss: 0.2277 - acc: 0.9305 - val_loss: 0.2807 - val_acc: 0.9100\n",
            "Epoch 83/100\n",
            "85/85 [==============================] - 39s 462ms/step - loss: 0.2408 - acc: 0.9271 - val_loss: 0.2788 - val_acc: 0.9100\n",
            "Epoch 84/100\n",
            "85/85 [==============================] - 40s 464ms/step - loss: 0.2283 - acc: 0.9316 - val_loss: 0.2778 - val_acc: 0.9100\n",
            "Epoch 85/100\n",
            "85/85 [==============================] - 40s 469ms/step - loss: 0.2296 - acc: 0.9305 - val_loss: 0.2771 - val_acc: 0.9100\n",
            "Epoch 86/100\n",
            "85/85 [==============================] - 39s 462ms/step - loss: 0.2312 - acc: 0.9320 - val_loss: 0.2758 - val_acc: 0.9100\n",
            "Epoch 87/100\n",
            "85/85 [==============================] - 40s 472ms/step - loss: 0.2217 - acc: 0.9345 - val_loss: 0.2734 - val_acc: 0.9114\n",
            "Epoch 88/100\n",
            "85/85 [==============================] - 40s 472ms/step - loss: 0.2221 - acc: 0.9301 - val_loss: 0.2718 - val_acc: 0.9129\n",
            "Epoch 89/100\n",
            "85/85 [==============================] - 39s 461ms/step - loss: 0.2289 - acc: 0.9275 - val_loss: 0.2723 - val_acc: 0.9100\n",
            "Epoch 90/100\n",
            "85/85 [==============================] - 39s 463ms/step - loss: 0.2163 - acc: 0.9345 - val_loss: 0.2707 - val_acc: 0.9100\n",
            "Epoch 91/100\n",
            "85/85 [==============================] - 40s 470ms/step - loss: 0.2144 - acc: 0.9360 - val_loss: 0.2670 - val_acc: 0.9171\n",
            "Epoch 92/100\n",
            "85/85 [==============================] - 40s 472ms/step - loss: 0.2141 - acc: 0.9323 - val_loss: 0.2679 - val_acc: 0.9129\n",
            "Epoch 93/100\n",
            "85/85 [==============================] - 39s 462ms/step - loss: 0.2135 - acc: 0.9379 - val_loss: 0.2663 - val_acc: 0.9171\n",
            "Epoch 94/100\n",
            "85/85 [==============================] - 40s 464ms/step - loss: 0.2021 - acc: 0.9382 - val_loss: 0.2656 - val_acc: 0.9157\n",
            "Epoch 95/100\n",
            "85/85 [==============================] - 39s 462ms/step - loss: 0.2044 - acc: 0.9401 - val_loss: 0.2654 - val_acc: 0.9129\n",
            "Epoch 96/100\n",
            "85/85 [==============================] - 39s 462ms/step - loss: 0.2119 - acc: 0.9382 - val_loss: 0.2647 - val_acc: 0.9129\n",
            "Epoch 97/100\n",
            "85/85 [==============================] - 39s 462ms/step - loss: 0.2103 - acc: 0.9371 - val_loss: 0.2624 - val_acc: 0.9114\n",
            "Epoch 98/100\n",
            "85/85 [==============================] - 39s 462ms/step - loss: 0.2041 - acc: 0.9364 - val_loss: 0.2612 - val_acc: 0.9143\n",
            "Epoch 99/100\n",
            "85/85 [==============================] - 39s 461ms/step - loss: 0.1967 - acc: 0.9438 - val_loss: 0.2603 - val_acc: 0.9143\n",
            "Epoch 100/100\n",
            "85/85 [==============================] - 40s 469ms/step - loss: 0.2002 - acc: 0.9427 - val_loss: 0.2583 - val_acc: 0.9114\n"
          ]
        }
      ]
    },
    {
      "cell_type": "code",
      "source": [
        "from sklearn.metrics import auc, roc_curve\n",
        "e = my_new_model.decision_function(test_generator)\n",
        "a,b,c=roc_curve(test_generator, e)\n",
        "d=auc(a,b)"
      ],
      "metadata": {
        "id": "g5Ybi46W3-ai"
      },
      "execution_count": null,
      "outputs": []
    },
    {
      "cell_type": "code",
      "source": [
        "import numpy as np\n",
        "from sklearn.metrics import confusion_matrix\n",
        "from sklearn.metrics import classification_report\n",
        "\n",
        "Y_pred = my_new_model.predict(test_generator)\n",
        "y_pred = np.argmax(Y_pred, axis=1)\n",
        "print('Confusion Matrix')\n",
        "print(confusion_matrix(test_generator.classes, y_pred))\n",
        "print('Classification Report')\n",
        "target_names = [\"Downy mildew disease\",\"Healthy\",\"Rust disease\"]\n",
        "print(classification_report(test_generator.classes, y_pred,))"
      ],
      "metadata": {
        "colab": {
          "base_uri": "https://localhost:8080/"
        },
        "id": "lMvYgsZwsuMp",
        "outputId": "5e7107ed-8fc5-484e-f1a8-96f4842bfb1c"
      },
      "execution_count": null,
      "outputs": [
        {
          "output_type": "stream",
          "name": "stdout",
          "text": [
            "Confusion Matrix\n",
            "[[ 79  21   0   0   0   0   0]\n",
            " [  9  91   0   0   0   0   0]\n",
            " [  0   0 100   0   0   0   0]\n",
            " [  0   0   0  93   0   6   1]\n",
            " [  0   0   1   0  94   4   1]\n",
            " [  0   0   0   4   2  85   9]\n",
            " [  0   0   1   2   0   1  96]]\n",
            "Classification Report\n",
            "              precision    recall  f1-score   support\n",
            "\n",
            "           0       0.90      0.79      0.84       100\n",
            "           1       0.81      0.91      0.86       100\n",
            "           2       0.98      1.00      0.99       100\n",
            "           3       0.94      0.93      0.93       100\n",
            "           4       0.98      0.94      0.96       100\n",
            "           5       0.89      0.85      0.87       100\n",
            "           6       0.90      0.96      0.93       100\n",
            "\n",
            "    accuracy                           0.91       700\n",
            "   macro avg       0.91      0.91      0.91       700\n",
            "weighted avg       0.91      0.91      0.91       700\n",
            "\n"
          ]
        }
      ]
    },
    {
      "cell_type": "code",
      "source": [
        "# summarize history for accuracy\n",
        "import matplotlib.pyplot as plt\n",
        "plt.plot(resnet_history.history['acc'])\n",
        "plt.plot(resnet_history.history['val_acc'])\n",
        "plt.title('model accuracy')\n",
        "plt.ylabel('accuracy')\n",
        "plt.xlabel('epoch')\n",
        "plt.legend(['train', 'test'], loc='upper left')\n",
        "plt.show()\n",
        "# summarize history for loss\n",
        "plt.plot(resnet_history.history['loss'])\n",
        "plt.plot(resnet_history.history['val_loss'])\n",
        "plt.title('model loss')\n",
        "plt.ylabel('loss')\n",
        "plt.xlabel('epoch')\n",
        "plt.legend(['train', 'test'], loc='upper left')\n",
        "plt.show()\n",
        "\n",
        "import matplotlib.pyplot as plt\n",
        "plt.plot(resnet_history.history['acc'])\n",
        "plt.plot(resnet_history.history['val_acc'])\n",
        "plt.plot(resnet_history.history['loss'])\n",
        "plt.plot(resnet_history.history['val_loss'])\n",
        "plt.title('model accuracy')\n",
        "plt.ylabel('Accuracy')\n",
        "plt.xlabel('Epoch')\n",
        "plt.legend(['Accuracy','Validation Accuracy','loss','Validation Loss'])\n",
        "plt.show()"
      ],
      "metadata": {
        "colab": {
          "base_uri": "https://localhost:8080/",
          "height": 851
        },
        "id": "NJPsXBjfs3HI",
        "outputId": "598f02c5-d38b-4368-c694-7b31f7ff498c"
      },
      "execution_count": null,
      "outputs": [
        {
          "output_type": "display_data",
          "data": {
            "text/plain": [
              "<Figure size 432x288 with 1 Axes>"
            ],
            "image/png": "[encoded data removed]"
          },
          "metadata": {
            "needs_background": "light"
          }
        },
        {
          "output_type": "display_data",
          "data": {
            "text/plain": [
              "<Figure size 432x288 with 1 Axes>"
            ],
            "image/png": "[encoded data removed]"
          },
          "metadata": {
            "needs_background": "light"
          }
        },
        {
          "output_type": "display_data",
          "data": {
            "text/plain": [
              "<Figure size 432x288 with 1 Axes>"
            ],
            "image/png": "[encoded data removed]"
          },
          "metadata": {
            "needs_background": "light"
          }
        }
      ]
    },
    {
      "cell_type": "code",
      "source": [
        "my_new_model.compile(loss=tf.keras.losses.CategoricalCrossentropy(),optimizer=Adam(learning_rate=0.0001),metrics=['acc'])\n",
        "\n",
        "es=EarlyStopping(monitor='val_acc', mode='max', verbose=1, patience=10)\n",
        "\n",
        "mc = ModelCheckpoint(\"Resnet50_best_model_1.h5\", monitor=\"val_acc\", mode=\"max\", save_best_only=True)\n",
        "\n",
        "resnet_history = my_new_model.fit(train_generator, validation_data = test_generator, steps_per_epoch = 85, epochs = 10, callbacks=[mc,es])"
      ],
      "metadata": {
        "colab": {
          "base_uri": "https://localhost:8080/"
        },
        "id": "DCsplMs5ljFQ",
        "outputId": "97ad7bb9-5229-4208-be25-4d5ae85c9938"
      },
      "execution_count": null,
      "outputs": [
        {
          "output_type": "stream",
          "name": "stdout",
          "text": [
            "Epoch 1/10\n",
            "85/85 [==============================] - 46s 479ms/step - loss: 0.0141 - acc: 0.9952 - val_loss: 0.7729 - val_acc: 0.8871\n",
            "Epoch 2/10\n",
            "85/85 [==============================] - 40s 472ms/step - loss: 0.0156 - acc: 0.9963 - val_loss: 0.3135 - val_acc: 0.9329\n",
            "Epoch 3/10\n",
            "85/85 [==============================] - 41s 480ms/step - loss: 0.0064 - acc: 0.9978 - val_loss: 0.3326 - val_acc: 0.9371\n",
            "Epoch 4/10\n",
            "85/85 [==============================] - 40s 467ms/step - loss: 0.0276 - acc: 0.9919 - val_loss: 0.4864 - val_acc: 0.9257\n",
            "Epoch 5/10\n",
            "85/85 [==============================] - 39s 462ms/step - loss: 0.0169 - acc: 0.9945 - val_loss: 0.2674 - val_acc: 0.9371\n",
            "Epoch 6/10\n",
            "85/85 [==============================] - 39s 457ms/step - loss: 0.0336 - acc: 0.9900 - val_loss: 0.7599 - val_acc: 0.8857\n",
            "Epoch 7/10\n",
            "85/85 [==============================] - 40s 470ms/step - loss: 0.0132 - acc: 0.9941 - val_loss: 0.2071 - val_acc: 0.9471\n",
            "Epoch 8/10\n",
            "85/85 [==============================] - 40s 471ms/step - loss: 0.0051 - acc: 0.9982 - val_loss: 0.2087 - val_acc: 0.9514\n",
            "Epoch 9/10\n",
            "85/85 [==============================] - 39s 456ms/step - loss: 0.0076 - acc: 0.9978 - val_loss: 0.2414 - val_acc: 0.9400\n",
            "Epoch 10/10\n",
            "85/85 [==============================] - 39s 460ms/step - loss: 0.0076 - acc: 0.9982 - val_loss: 0.2557 - val_acc: 0.9514\n"
          ]
        }
      ]
    },
    {
      "cell_type": "code",
      "source": [
        "import numpy as np\n",
        "from sklearn.metrics import confusion_matrix\n",
        "from sklearn.metrics import classification_report\n",
        "\n",
        "Y_pred = my_new_model.predict(test_generator)\n",
        "y_pred = np.argmax(Y_pred, axis=1)\n",
        "print('Confusion Matrix')\n",
        "print(confusion_matrix(test_generator.classes, y_pred))\n",
        "print('Classification Report')\n",
        "target_names = [\"Downy mildew disease\",\"Healthy\",\"Rust disease\"]\n",
        "print(classification_report(test_generator.classes, y_pred,))"
      ],
      "metadata": {
        "colab": {
          "base_uri": "https://localhost:8080/"
        },
        "id": "9l9BKL92ycqN",
        "outputId": "aafd16b5-dd7b-49aa-d742-8368c797d52e"
      },
      "execution_count": null,
      "outputs": [
        {
          "output_type": "stream",
          "name": "stdout",
          "text": [
            "Confusion Matrix\n",
            "[[ 96   3   0   0   0   1   0]\n",
            " [ 14  86   0   0   0   0   0]\n",
            " [  0   0 100   0   0   0   0]\n",
            " [  0   0   0  97   0   3   0]\n",
            " [  0   0   0   0  97   2   1]\n",
            " [  0   0   1   2   0  97   0]\n",
            " [  0   0   1   3   0   3  93]]\n",
            "Classification Report\n",
            "              precision    recall  f1-score   support\n",
            "\n",
            "           0       0.87      0.96      0.91       100\n",
            "           1       0.97      0.86      0.91       100\n",
            "           2       0.98      1.00      0.99       100\n",
            "           3       0.95      0.97      0.96       100\n",
            "           4       1.00      0.97      0.98       100\n",
            "           5       0.92      0.97      0.94       100\n",
            "           6       0.99      0.93      0.96       100\n",
            "\n",
            "    accuracy                           0.95       700\n",
            "   macro avg       0.95      0.95      0.95       700\n",
            "weighted avg       0.95      0.95      0.95       700\n",
            "\n"
          ]
        }
      ]
    },
    {
      "cell_type": "code",
      "source": [
        "# summarize history for accuracy\n",
        "import matplotlib.pyplot as plt\n",
        "plt.plot(resnet_history.history['acc'])\n",
        "plt.plot(resnet_history.history['val_acc'])\n",
        "plt.title('model accuracy')\n",
        "plt.ylabel('accuracy')\n",
        "plt.xlabel('epoch')\n",
        "plt.legend(['train', 'test'], loc='upper left')\n",
        "plt.show()\n",
        "# summarize history for loss\n",
        "plt.plot(resnet_history.history['loss'])\n",
        "plt.plot(resnet_history.history['val_loss'])\n",
        "plt.title('model loss')\n",
        "plt.ylabel('loss')\n",
        "plt.xlabel('epoch')\n",
        "plt.legend(['train', 'test'], loc='upper left')\n",
        "plt.show()\n",
        "\n",
        "import matplotlib.pyplot as plt\n",
        "plt.plot(resnet_history.history['acc'])\n",
        "plt.plot(resnet_history.history['val_acc'])\n",
        "plt.plot(resnet_history.history['loss'])\n",
        "plt.plot(resnet_history.history['val_loss'])\n",
        "plt.title('model accuracy')\n",
        "plt.ylabel('Accuracy')\n",
        "plt.xlabel('Epoch')\n",
        "plt.legend(['Accuracy','Validation Accuracy','loss','Validation Loss'])\n",
        "plt.show()"
      ],
      "metadata": {
        "colab": {
          "base_uri": "https://localhost:8080/",
          "height": 235
        },
        "id": "OsNC6_ob4U_O",
        "outputId": "5165060d-b40a-4c61-dcb2-ae4c9a87a801"
      },
      "execution_count": null,
      "outputs": [
        {
          "output_type": "error",
          "ename": "NameError",
          "evalue": "ignored",
          "traceback": [
            "\u001b[0;31m---------------------------------------------------------------------------\u001b[0m",
            "\u001b[0;31mNameError\u001b[0m                                 Traceback (most recent call last)",
            "\u001b[0;32m<ipython-input-3-8ce015a3a81a>\u001b[0m in \u001b[0;36m<module>\u001b[0;34m\u001b[0m\n\u001b[1;32m      1\u001b[0m \u001b[0;31m# summarize history for accuracy\u001b[0m\u001b[0;34m\u001b[0m\u001b[0;34m\u001b[0m\u001b[0;34m\u001b[0m\u001b[0m\n\u001b[1;32m      2\u001b[0m \u001b[0;32mimport\u001b[0m \u001b[0mmatplotlib\u001b[0m\u001b[0;34m.\u001b[0m\u001b[0mpyplot\u001b[0m \u001b[0;32mas\u001b[0m \u001b[0mplt\u001b[0m\u001b[0;34m\u001b[0m\u001b[0;34m\u001b[0m\u001b[0m\n\u001b[0;32m----> 3\u001b[0;31m \u001b[0mplt\u001b[0m\u001b[0;34m.\u001b[0m\u001b[0mplot\u001b[0m\u001b[0;34m(\u001b[0m\u001b[0mresnet_history\u001b[0m\u001b[0;34m.\u001b[0m\u001b[0mhistory\u001b[0m\u001b[0;34m[\u001b[0m\u001b[0;34m'acc'\u001b[0m\u001b[0;34m]\u001b[0m\u001b[0;34m)\u001b[0m\u001b[0;34m\u001b[0m\u001b[0;34m\u001b[0m\u001b[0m\n\u001b[0m\u001b[1;32m      4\u001b[0m \u001b[0mplt\u001b[0m\u001b[0;34m.\u001b[0m\u001b[0mplot\u001b[0m\u001b[0;34m(\u001b[0m\u001b[0mresnet_history\u001b[0m\u001b[0;34m.\u001b[0m\u001b[0mhistory\u001b[0m\u001b[0;34m[\u001b[0m\u001b[0;34m'val_acc'\u001b[0m\u001b[0;34m]\u001b[0m\u001b[0;34m)\u001b[0m\u001b[0;34m\u001b[0m\u001b[0;34m\u001b[0m\u001b[0m\n\u001b[1;32m      5\u001b[0m \u001b[0mplt\u001b[0m\u001b[0;34m.\u001b[0m\u001b[0mtitle\u001b[0m\u001b[0;34m(\u001b[0m\u001b[0;34m'model accuracy'\u001b[0m\u001b[0;34m)\u001b[0m\u001b[0;34m\u001b[0m\u001b[0;34m\u001b[0m\u001b[0m\n",
            "\u001b[0;31mNameError\u001b[0m: name 'resnet_history' is not defined"
          ]
        }
      ]
    },
    {
      "cell_type": "code",
      "source": [
        "import matplotlib.pyplot as plt\n",
        "x=[1,2,3,4,5,6,7,8,9,10,11,12,13,14,15,16,17,18,19,20,21,22,23,24,25,26,27,28,29,30,31,32,33,34,35,36,37,38,39,40,41,42,43,44,45,46,47,48,49,50,51,52,53,54,55,56,57,58,59,60,61,62,63,64,65,66,67,68,69,70,71,72,73,74,75,76,77,78,79,80,81,82,83,84,85,86,87,88,89,90,91,92,93,94,95,96,97,98,99,100,101,102,103,104,105,106,107,108,109,110]\n",
        "loss\n",
        "y=[2.1689,1.9275,1.7550,1.5889,1.4790,1.3775,1.2734,1.1904,1.1253,1.0486,0.9867,0.9508,0.8883,0.8674,0.8132,0.7755,0.7410,0.7142,0.6872,0.6618,0.6344,0.6171,0.5913,0.5745,0.5576,0.5545,0.5317,0.5102,0.5016,0.4890,0.4781,0.4624,0.4658,0.4503,0.4449,0.4313,0.4116,0.4140,0.4047,0.3968,0.3987,0.3842,0.3778,0.3811,0.3661,0.3584,0.3495,0.3532,0.3329,0.3395,0.3262,0.3291,0.3205,0.3135,0.3137,0.3148,0.3083,0.3002,0.2987,0.2978,0.2985,0.2859,0.2871,0.2778,0.2727,0.2745,0.2724,0.2758,0.2644,0.2603,0.2627,0.2711,0.2608,0.2554,0.2453,0.2403,0.2392,0.2397,0.2366,0.2331,0.2362,0.2277,0.2408,0.2283,0.2296,0.2312,0.2217,0.2221,0.2289,0.2163,0.2144,0.2141,0.2135,0.2021,0.2044,0.2119,0.2103,0.2041,0.1967,0.2002,0.0141,0.0156,0.0064,0.0276,0.0169,0.0336,0.0132,0.0051,0.0076,0.0076]\n",
        "accuracy\n",
        "z=[0.1313,0.2167,0.2977,0.4009,0.4708,0.5207,0.5880,0.6180,0.6594,0.6897,0.7237,0.7371,0.7507,0.7607,0.7892,0.7936,0.7996,0.8070,0.8229,0.8203,0.8384,0.8388,0.8469,0.8454,0.8524,0.8491,0.8554,0.8621,0.8584,0.8743,0.8750,0.8746,0.8672,0.8746,0.8746,0.8791,0.8898,0.8794,0.8838,0.8905,0.8824,0.8913,0.8939,0.8916,0.8916,0.8990,0.9016,0.9001,0.9061,0.9027,0.9035,0.9016,0.9112,0.9105,0.9064,0.9038,0.9072,0.9197,0.9127,0.9135,0.9090,0.9161,0.9101,0.9175,0.9197,0.9190,0.9172,0.9164,0.9286,0.9212,0.9175,0.9153,0.9231,0.9220,0.9220,0.9279,0.9297,0.9271,0.9294,0.9301,0.9283,0.9305,0.9271,0.9316,0.9305,0.9320,0.9345,0.9301,0.9275,0.9345,0.9360,0.9323,0.9379,0.9382,0.9401,0.9382,0.9371,0.9364,0.9438,0.9427,0.9952,0.9963,0.9978,0.9919,0.9945,0.9900,0.9941,0.9982,0.9978,0.9982]\n",
        "val loss\n",
        "w=[2.1259,2.2261,2.3219,2.4682,2.5824,2.6765,2.6903,2.5205,2.1974,1.8222,1.4693,1.1970,1.0061,0.8955,0.8251,0.7740,0.7355,0.7035,0.6769,0.6550,0.6361,0.6160,0.5969,0.5799,0.5622,0.5484,0.5349,0.5230,0.5099,0.4990,0.4885,0.4786,0.4711,0.4624,0.4523,0.4435,0.4369,0.4287,0.4216,0.4167,0.4109,0.4043,0.3983,0.3921,0.3899,0.3854,0.3797,0.3741,0.3699,0.3664,0.3615,0.3581,0.3553,0.3511,0.3467,0.3431,0.3394,0.3372,0.3337,0.3309,0.3266,0.3235,0.3211,0.3200,0.3156,0.3136,0.3103,0.3102,0.3055,0.3034,0.3009,0.3002,0.2982,0.2968,0.2951,0.2946,0.2905,0.2884,0.2867,0.2851,0.2831,0.2807,0.2788,0.2778,0.2771,0.2758,0.2734,0.2718,0.2723,0.2707,0.2670,0.2679,0.2663,0.2656,0.2654,0.2647,0.2624,0.2412,0.2603,0.2583,0.2729,0.2135,0.2326,0.2864,0.2674,0.2599,0.2071,0.2087,0.2114,0.2057]\n",
        "val accuracy\n",
        "v=[0.0914,0.1314,0.1586,0.2043,0.1986,0.1800,0.1514,0.1557,0.1814,0.2486,0.3857,0.5743,0.6700,0.7357,0.7543,0.7814,0.7900,0.7957,0.8029,0.8157,0.8171,0.8214,0.8243,0.8300,0.8300,0.8357,0.8357,0.8386,0.8414,0.8400,0.8443,0.8457,0.8471,0.8514,0.8557,0.8571,0.8557,0.8614,0.8629,0.8571,0.8614,0.8643,0.8671,0.8643,0.8714,0.8714,0.8729,0.8743,0.8786,0.8786,0.8786,0.8786,0.8786,0.8814,0.8800,0.8814,0.8843,0.8843,0.8857,0.8857,0.8886,0.8886,0.8900,0.8871,0.8914,0.8914,0.8943,0.8943,0.9000,0.9014,0.9043,0.9043,0.9071,0.9071,0.9057,0.9057,0.9071,0.9100,0.9086,0.9100,0.9086,0.9100,0.9100,0.9100,0.9100,0.9100,0.9114,0.9129,0.9100,0.9100,0.9171,0.9129,0.9171,0.9157,0.9129,0.9129,0.9114,0.9143,0.9143,0.9114,0.9271,0.9329,0.9371,0.9257,0.9371,0.9377,0.9471,0.9514,0.9400,0.9514]\n",
        "plt.plot(x,z)\n",
        "plt.plot(x,v)\n",
        "plt.title('model accuracy')\n",
        "plt.ylabel('accuracy')\n",
        "plt.xlabel('epoch')\n",
        "plt.legend(['train', 'test'], loc='upper left')\n",
        "plt.show()"
      ],
      "metadata": {
        "colab": {
          "base_uri": "https://localhost:8080/",
          "height": 130
        },
        "id": "ryeKrUZHTSYQ",
        "outputId": "88a085cb-e914-4939-d32c-551f149ad590"
      },
      "execution_count": null,
      "outputs": [
        {
          "output_type": "error",
          "ename": "SyntaxError",
          "evalue": "ignored",
          "traceback": [
            "\u001b[0;36m  File \u001b[0;32m\"<ipython-input-1-8e31a2fc4ad9>\"\u001b[0;36m, line \u001b[0;32m7\u001b[0m\n\u001b[0;31m    val loss\u001b[0m\n\u001b[0m           ^\u001b[0m\n\u001b[0;31mSyntaxError\u001b[0m\u001b[0;31m:\u001b[0m invalid syntax\n"
          ]
        }
      ]
    },
    {
      "cell_type": "code",
      "source": [
        "import matplotlib.pyplot as plt\n",
        "x=[1,2,3,4,5,6,7,8,9,10,11,12,13,14,15,16,17,18,19,20,21,22,23,24,25,26,27,28,29,30,31,32,33,34,35,36,37,38,39,40,41,42,43,44,45,46,47,48,49,50,51,52,53,54,55,56,57,58,59,60,61,62,63,64,65,66,67,68,69,70,71,72,73,74,75,76,77,78,79,80,81,82,83,84,85,86,87,88,89,90,91,92,93,94,95,96,97,98,99,100,101,102,103,104,105,106,107,108,109,110]\n",
        "\n",
        "y=[2.1689,1.9275,1.7550,1.5889,1.4790,1.3775,1.2734,1.1904,1.1253,1.0486,0.9867,0.9508,0.8883,0.8674,0.8132,0.7755,0.7410,0.7142,0.6872,0.6618,0.6344,0.6171,0.5913,0.5745,0.5576,0.5545,0.5317,0.5102,0.5016,0.4890,0.4781,0.4624,0.4658,0.4503,0.4449,0.4313,0.4116,0.4140,0.4047,0.3968,0.3987,0.3842,0.3778,0.3811,0.3661,0.3584,0.3495,0.3532,0.3329,0.3395,0.3262,0.3291,0.3205,0.3135,0.3137,0.3148,0.3083,0.3002,0.2987,0.2978,0.2985,0.2859,0.2871,0.2778,0.2727,0.2745,0.2724,0.2758,0.2644,0.2603,0.2627,0.2711,0.2608,0.2554,0.2453,0.2403,0.2392,0.2397,0.2366,0.2331,0.2362,0.2277,0.2408,0.2283,0.2296,0.2312,0.2217,0.2221,0.2289,0.2163,0.2144,0.2141,0.2135,0.2021,0.2044,0.2119,0.2103,0.2041,0.1967,0.2002,0.0141,0.0156,0.0064,0.0276,0.0169,0.0336,0.0132,0.0051,0.0076,0.0076]\n",
        "\n",
        "z=[0.1313,0.2167,0.2977,0.4009,0.4708,0.5207,0.5880,0.6180,0.6594,0.6897,0.7237,0.7371,0.7507,0.7607,0.7892,0.7936,0.7996,0.8070,0.8229,0.8203,0.8384,0.8388,0.8469,0.8454,0.8524,0.8491,0.8554,0.8621,0.8584,0.8743,0.8750,0.8746,0.8672,0.8746,0.8746,0.8791,0.8898,0.8794,0.8838,0.8905,0.8824,0.8913,0.8939,0.8916,0.8916,0.8990,0.9016,0.9001,0.9061,0.9027,0.9035,0.9016,0.9112,0.9105,0.9064,0.9038,0.9072,0.9197,0.9127,0.9135,0.9090,0.9161,0.9101,0.9175,0.9197,0.9190,0.9172,0.9164,0.9286,0.9212,0.9175,0.9153,0.9231,0.9220,0.9220,0.9279,0.9297,0.9271,0.9294,0.9301,0.9283,0.9305,0.9271,0.9316,0.9305,0.9320,0.9345,0.9301,0.9275,0.9345,0.9360,0.9323,0.9379,0.9382,0.9401,0.9382,0.9371,0.9364,0.9438,0.9427,0.9952,0.9963,0.9978,0.9919,0.9945,0.9900,0.9941,0.9982,0.9978,0.9982]\n",
        "\n",
        "w=[2.1259,2.2261,2.3219,2.4682,2.5824,2.6765,2.6903,2.5205,2.1974,1.8222,1.4693,1.1970,1.0061,0.8955,0.8251,0.7740,0.7355,0.7035,0.6769,0.6550,0.6361,0.6160,0.5969,0.5799,0.5622,0.5484,0.5349,0.5230,0.5099,0.4990,0.4885,0.4786,0.4711,0.4624,0.4523,0.4435,0.4369,0.4287,0.4216,0.4167,0.4109,0.4043,0.3983,0.3921,0.3899,0.3854,0.3797,0.3741,0.3699,0.3664,0.3615,0.3581,0.3553,0.3511,0.3467,0.3431,0.3394,0.3372,0.3337,0.3309,0.3266,0.3235,0.3211,0.3200,0.3156,0.3136,0.3103,0.3102,0.3055,0.3034,0.3009,0.3002,0.2982,0.2968,0.2951,0.2946,0.2905,0.2884,0.2867,0.2851,0.2831,0.2807,0.2788,0.2778,0.2771,0.2758,0.2734,0.2718,0.2723,0.2707,0.2670,0.2679,0.2663,0.2656,0.2654,0.2647,0.2624,0.2412,0.2403,0.2483,0.2229,0.2135,0.2326,0.2864,0.2674,0.2599,0.2071,0.2087,0.2114,0.2057]\n",
        "\n",
        "v=[0.0914,0.1314,0.1586,0.2043,0.1986,0.1800,0.1514,0.1557,0.1814,0.2486,0.3857,0.5743,0.6700,0.7357,0.7543,0.7814,0.7900,0.7957,0.8029,0.8157,0.8171,0.8214,0.8243,0.8300,0.8300,0.8357,0.8357,0.8386,0.8414,0.8400,0.8443,0.8457,0.8471,0.8514,0.8557,0.8571,0.8557,0.8614,0.8629,0.8571,0.8614,0.8643,0.8671,0.8643,0.8714,0.8714,0.8729,0.8743,0.8786,0.8786,0.8786,0.8786,0.8786,0.8814,0.8800,0.8814,0.8843,0.8843,0.8857,0.8857,0.8886,0.8886,0.8900,0.8871,0.8914,0.8914,0.8943,0.8943,0.9000,0.9014,0.9043,0.9043,0.9071,0.9071,0.9057,0.9057,0.9071,0.9100,0.9086,0.9100,0.9086,0.9100,0.9100,0.9100,0.9100,0.9100,0.9114,0.9129,0.9100,0.9100,0.9171,0.9129,0.9171,0.9157,0.9129,0.9129,0.9114,0.9143,0.9143,0.9114,0.9271,0.9329,0.9371,0.9257,0.9371,0.9377,0.9471,0.9514,0.9400,0.9514]\n",
        "plt.plot(x,z)\n",
        "plt.plot(x,v)\n",
        "plt.title('model accuracy')\n",
        "plt.ylabel('accuracy')\n",
        "plt.xlabel('epoch')\n",
        "plt.legend(['train', 'test'], loc='upper left')\n",
        "plt.show()"
      ],
      "metadata": {
        "colab": {
          "base_uri": "https://localhost:8080/",
          "height": 295
        },
        "id": "gxSf43WtWqj_",
        "outputId": "f773f527-febb-44c7-fe1f-f6e3d18829d5"
      },
      "execution_count": null,
      "outputs": [
        {
          "output_type": "display_data",
          "data": {
            "text/plain": [
              "<Figure size 432x288 with 1 Axes>"
            ],
            "image/png": "[encoded data removed]"
          },
          "metadata": {
            "needs_background": "light"
          }
        }
      ]
    },
    {
      "cell_type": "code",
      "source": [
        "plt.plot(x,y)\n",
        "plt.plot(x,w)\n",
        "plt.title('model loss')\n",
        "plt.ylabel('loss')\n",
        "plt.xlabel('epoch')\n",
        "plt.legend(['train', 'test'], loc='upper left')\n",
        "plt.show()"
      ],
      "metadata": {
        "colab": {
          "base_uri": "https://localhost:8080/",
          "height": 295
        },
        "id": "2Zt-5F134IAN",
        "outputId": "4522127a-95f2-4cbd-9eb5-eb397d93ce98"
      },
      "execution_count": null,
      "outputs": [
        {
          "output_type": "display_data",
          "data": {
            "text/plain": [
              "<Figure size 432x288 with 1 Axes>"
            ],
            "image/png": "[encoded data removed]"
          },
          "metadata": {
            "needs_background": "light"
          }
        }
      ]
    }
  ]
}